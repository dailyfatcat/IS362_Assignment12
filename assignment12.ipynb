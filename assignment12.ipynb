{
 "cells": [
  {
   "cell_type": "markdown",
   "metadata": {
    "collapsed": true,
    "pycharm": {
     "name": "#%% md\n"
    }
   },
   "source": [
    "Assignment 12\n",
    "======================================\n",
    "\n",
    "Use the mushroom dataset from UCI repository\n",
    "here: https://archive.ics.uci.edu/ml/datasets/Mushroom."
   ]
  },
  {
   "cell_type": "code",
   "execution_count": 9,
   "outputs": [],
   "source": [
    "#import statements\n",
    "import pandas as pd\n",
    "import seaborn as sns\n",
    "import matplotlib.pyplot as plt\n",
    "%matplotlib inline"
   ],
   "metadata": {
    "collapsed": false,
    "pycharm": {
     "name": "#%%\n"
    }
   }
  },
  {
   "cell_type": "markdown",
   "source": [
    "Collecting and transforming the data\n",
    "-----------------------------------\n",
    "+ Create a pandas dataframe with a subset of the columns in the dataset\n",
    "+ Include edible or poisonous, odor and one other column\n",
    "+ (classes: edible=e, poisonous=p),   3. cap-color:,    5. odor:\n",
    "+ Add meaningful names to each column"
   ],
   "metadata": {
    "collapsed": false
   }
  },
  {
   "cell_type": "code",
   "execution_count": 10,
   "outputs": [
    {
     "data": {
      "text/plain": "  Class Color Odor\n0     p     n    p\n1     e     y    a\n2     e     w    l\n3     p     w    p\n4     e     g    n",
      "text/html": "<div>\n<style scoped>\n    .dataframe tbody tr th:only-of-type {\n        vertical-align: middle;\n    }\n\n    .dataframe tbody tr th {\n        vertical-align: top;\n    }\n\n    .dataframe thead th {\n        text-align: right;\n    }\n</style>\n<table border=\"1\" class=\"dataframe\">\n  <thead>\n    <tr style=\"text-align: right;\">\n      <th></th>\n      <th>Class</th>\n      <th>Color</th>\n      <th>Odor</th>\n    </tr>\n  </thead>\n  <tbody>\n    <tr>\n      <th>0</th>\n      <td>p</td>\n      <td>n</td>\n      <td>p</td>\n    </tr>\n    <tr>\n      <th>1</th>\n      <td>e</td>\n      <td>y</td>\n      <td>a</td>\n    </tr>\n    <tr>\n      <th>2</th>\n      <td>e</td>\n      <td>w</td>\n      <td>l</td>\n    </tr>\n    <tr>\n      <th>3</th>\n      <td>p</td>\n      <td>w</td>\n      <td>p</td>\n    </tr>\n    <tr>\n      <th>4</th>\n      <td>e</td>\n      <td>g</td>\n      <td>n</td>\n    </tr>\n  </tbody>\n</table>\n</div>"
     },
     "execution_count": 10,
     "metadata": {},
     "output_type": "execute_result"
    }
   ],
   "source": [
    "mdata = pd.read_csv('https://archive.ics.uci.edu/ml/machine-learning-databases/mushroom/agaricus-lepiota.data',\n",
    "                    sep=',', header=None, usecols=[0, 3, 5], names=['Class','Color','Odor'])\n",
    "mdata.head()"
   ],
   "metadata": {
    "collapsed": false,
    "pycharm": {
     "name": "#%%\n"
    }
   }
  },
  {
   "cell_type": "markdown",
   "source": [
    "Replace the codes that were used\n",
    "----------------------\n",
    "+ Keys:\n",
    "+ classes: edible=e =0, poisonous=p =1\n",
    "+ color: brown=n=20, buff=b=21, cinnamon=c=22, gray=g=23,green=r=24, pink=p=25, purple=u=26, red=e=27, white=w=28, yellow=y=29\n",
    "+ odor: almond=a=10, anise=l=11, creosote=c=12, fishy=y=13, foul=f=14, musty=m=15, none=n=16, pungent=p=17, spicy=s-18"
   ],
   "metadata": {
    "collapsed": false
   }
  },
  {
   "cell_type": "code",
   "source": [
    "mdata.replace(to_replace={\"Class\":{'p': 1, 'e': 0}}, inplace=True)\n",
    "mdata.replace(to_replace={\"Odor\":{'a':10, 'l':11, 'c':12, 'y':13, 'f':14, 'm':15, 'n':16, 'p':17, 's':18}}, inplace=True)\n",
    "mdata.replace(to_replace={\"Color\":{'n':20, 'b':21 , 'c':22, 'g':23, 'r':24, 'p':25, 'u':26, 'e':27, 'w':28, 'y':29}}, inplace=True)\n",
    "mdata.head()"
   ],
   "metadata": {
    "collapsed": false,
    "pycharm": {
     "name": "#%%\n"
    }
   },
   "execution_count": 11,
   "outputs": [
    {
     "data": {
      "text/plain": "   Class  Color  Odor\n0      1     20    17\n1      0     29    10\n2      0     28    11\n3      1     28    17\n4      0     23    16",
      "text/html": "<div>\n<style scoped>\n    .dataframe tbody tr th:only-of-type {\n        vertical-align: middle;\n    }\n\n    .dataframe tbody tr th {\n        vertical-align: top;\n    }\n\n    .dataframe thead th {\n        text-align: right;\n    }\n</style>\n<table border=\"1\" class=\"dataframe\">\n  <thead>\n    <tr style=\"text-align: right;\">\n      <th></th>\n      <th>Class</th>\n      <th>Color</th>\n      <th>Odor</th>\n    </tr>\n  </thead>\n  <tbody>\n    <tr>\n      <th>0</th>\n      <td>1</td>\n      <td>20</td>\n      <td>17</td>\n    </tr>\n    <tr>\n      <th>1</th>\n      <td>0</td>\n      <td>29</td>\n      <td>10</td>\n    </tr>\n    <tr>\n      <th>2</th>\n      <td>0</td>\n      <td>28</td>\n      <td>11</td>\n    </tr>\n    <tr>\n      <th>3</th>\n      <td>1</td>\n      <td>28</td>\n      <td>17</td>\n    </tr>\n    <tr>\n      <th>4</th>\n      <td>0</td>\n      <td>23</td>\n      <td>16</td>\n    </tr>\n  </tbody>\n</table>\n</div>"
     },
     "execution_count": 11,
     "metadata": {},
     "output_type": "execute_result"
    }
   ]
  },
  {
   "cell_type": "markdown",
   "source": [
    "Perform Exploratory data analysis\n",
    "------------------------\n",
    "+ Show the distribution of data for each of the columns you selected\n",
    "+ Show scatterplots for edible/poisonous vs. odor as well as the other column that you selected.\n",
    "+ Include some text describing your preliminary conclusions about whether either of the other columns\n",
    "could be helpful in predicting if a specific mushroom is edible or poisonous."
   ],
   "metadata": {
    "collapsed": false
   }
  },
  {
   "cell_type": "code",
   "execution_count": 12,
   "outputs": [
    {
     "data": {
      "text/plain": "Text(0, 0.5, 'Cap Color')"
     },
     "execution_count": 12,
     "metadata": {},
     "output_type": "execute_result"
    },
    {
     "data": {
      "text/plain": "<Figure size 432x288 with 1 Axes>",
      "image/png": "[encoded data removed]"
     },
     "metadata": {
      "needs_background": "light"
     },
     "output_type": "display_data"
    }
   ],
   "source": [
    "plt.scatter(mdata.Class, mdata.Color, marker = '*')\n",
    "plt.xlabel(\"Mushroom Class\")\n",
    "plt.ylabel(\"Color\")"
   ],
   "metadata": {
    "collapsed": false,
    "pycharm": {
     "name": "#%%\n"
    }
   }
  },
  {
   "cell_type": "markdown",
   "source": [
    "This column does not appear to be as useful in determining if the mushroom is poisnous as the data is almost equally distributed along both 1 and 0."
   ],
   "metadata": {
    "collapsed": false,
    "pycharm": {
     "name": "#%% md\n"
    }
   }
  },
  {
   "cell_type": "code",
   "execution_count": 13,
   "outputs": [
    {
     "data": {
      "text/plain": "Text(0, 0.5, 'Odor')"
     },
     "execution_count": 13,
     "metadata": {},
     "output_type": "execute_result"
    },
    {
     "data": {
      "text/plain": "<Figure size 432x288 with 1 Axes>",
      "image/png": "[encoded data removed]"
     },
     "metadata": {
      "needs_background": "light"
     },
     "output_type": "display_data"
    }
   ],
   "source": [
    "plt.scatter(mdata.Class, mdata.Odor, marker = '^')\n",
    "plt.xlabel(\"Mushroom Class\")\n",
    "plt.ylabel(\"Odor\")"
   ],
   "metadata": {
    "collapsed": false,
    "pycharm": {
     "name": "#%%\n"
    }
   }
  },
  {
   "cell_type": "markdown",
   "source": [
    "It appears that there is little overlap between mushrooms that are poisonous (1, on the right side), and mushrooms that are not poisonous  (0, left side)"
   ],
   "metadata": {
    "collapsed": false
   }
  }
 ],
 "metadata": {
  "kernelspec": {
   "display_name": "Python 3",
   "language": "python",
   "name": "python3"
  },
  "language_info": {
   "codemirror_mode": {
    "name": "ipython",
    "version": 2
   },
   "file_extension": ".py",
   "mimetype": "text/x-python",
   "name": "python",
   "nbconvert_exporter": "python",
   "pygments_lexer": "ipython2",
   "version": "2.7.6"
  }
 },
 "nbformat": 4,
 "nbformat_minor": 0
}